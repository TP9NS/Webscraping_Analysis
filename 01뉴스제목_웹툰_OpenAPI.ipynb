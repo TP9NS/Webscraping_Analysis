{
 "cells": [
  {
   "cell_type": "markdown",
   "id": "eb0bfa44",
   "metadata": {},
   "source": [
    "## 1. 뉴스제목 가져오기\n",
    "* user-agent 요청헤더를 반드시 설정해야 한다."
   ]
  },
  {
   "cell_type": "code",
   "execution_count": 8,
   "id": "f0d27781",
   "metadata": {},
   "outputs": [
    {
     "name": "stdout",
     "output_type": "stream",
     "text": [
      "Name: requests\n",
      "Version: 2.32.3\n",
      "Summary: Python HTTP for Humans.\n",
      "Home-page: https://requests.readthedocs.io\n",
      "Author: Kenneth Reitz\n",
      "Author-email: me@kennethreitz.org\n",
      "License: Apache-2.0\n",
      "Location: c:\\Users\\user\\anaconda3\\Lib\\site-packages\n",
      "Requires: certifi, charset-normalizer, idna, urllib3\n",
      "Required-by: anaconda-catalogs, anaconda-client, anaconda-cloud-auth, anaconda-project, conda, conda-build, conda-repo-cli, conda_package_streaming, cookiecutter, datashader, jupyterlab_server, panel, requests-file, requests-toolbelt, Sphinx, streamlit, tldextract\n",
      "Note: you may need to restart the kernel to use updated packages.\n"
     ]
    }
   ],
   "source": [
    "# requests 라이브러리 설치여부 확인\n",
    "%pip show requests"
   ]
  },
  {
   "cell_type": "code",
   "execution_count": 9,
   "id": "f7798ea8",
   "metadata": {},
   "outputs": [
    {
     "name": "stdout",
     "output_type": "stream",
     "text": [
      "Name: beautifulsoup4\n",
      "Version: 4.12.3\n",
      "Summary: Screen-scraping library\n",
      "Home-page: https://www.crummy.com/software/BeautifulSoup/bs4/\n",
      "Author: \n",
      "Author-email: Leonard Richardson <leonardr@segfault.org>\n",
      "License: MIT License\n",
      "Location: c:\\Users\\user\\anaconda3\\Lib\\site-packages\n",
      "Requires: soupsieve\n",
      "Required-by: conda-build, nbconvert\n",
      "Note: you may need to restart the kernel to use updated packages.\n"
     ]
    }
   ],
   "source": [
    "# beautifulsoup4 라이브러리 설치여부 확인\n",
    "%pip show beautifulsoup4"
   ]
  },
  {
   "cell_type": "code",
   "execution_count": 10,
   "id": "bf80a429",
   "metadata": {},
   "outputs": [],
   "source": [
    "# reqeusts, bs4 import\n",
    "import requests  # requests 라이브러리 import\n",
    "from bs4 import BeautifulSoup  # bs4 라이브러리에서 BeautifulSoup 클래스 import\n",
    "# BeautifulSoup 클래스 import"
   ]
  },
  {
   "cell_type": "code",
   "execution_count": 11,
   "id": "9788d6ac",
   "metadata": {},
   "outputs": [
    {
     "name": "stdout",
     "output_type": "stream",
     "text": [
      "requests 버전 2.32.3\n",
      "beautifulsoup4 버전 4.12.3\n"
     ]
    }
   ],
   "source": [
    "import requests\n",
    "import bs4\n",
    "# BeautifulSoup 클래스 import\n",
    "from bs4 import BeautifulSoup\n",
    "print(f'requests 버전 {requests.__version__}')\n",
    "print(f'beautifulsoup4 버전 {bs4.__version__}')"
   ]
  },
  {
   "cell_type": "markdown",
   "id": "ccb91def-cde3-4aeb-b0e5-2e7233500333",
   "metadata": {},
   "source": [
    "### 1. 뉴스 제목 추출하기"
   ]
  },
  {
   "cell_type": "code",
   "execution_count": 12,
   "id": "94c12fd6",
   "metadata": {},
   "outputs": [
    {
     "name": "stdout",
     "output_type": "stream",
     "text": [
      "https://news.naver.com/section/105\n",
      "<Response [200]>\n",
      "<class 'requests.models.Response'>\n",
      "200\n",
      "200 True\n",
      "정부, 연 20억 지원 석박사 해외교육 주관기관 모집…'AI 반도체' 분야 https://n.news.naver.com/mnews/article/003/0013173235\n",
      " https://n.news.naver.com/mnews/article/comment/003/0013173235\n",
      "SKT, ‘AI 스타트업 엑셀러레이터’ 프로그램 공모... 15개 팀 선발 https://n.news.naver.com/mnews/article/366/0001067764\n",
      " https://n.news.naver.com/mnews/article/comment/366/0001067764\n",
      "포스코DX, 영상인식 AI 기술로 야생동물 교통사고 예방 https://n.news.naver.com/mnews/article/366/0001067826\n",
      " https://n.news.naver.com/mnews/article/comment/366/0001067826\n",
      "KT 지니 TV 셋톱박스 4, 3대 디자인 어워드 석권 https://n.news.naver.com/mnews/article/014/0005333310\n",
      " https://n.news.naver.com/mnews/article/comment/014/0005333310\n",
      "과기정통부 SW기업 지원 사업에 37개사 신규 참여 https://n.news.naver.com/mnews/article/018/0005983212\n",
      " https://n.news.naver.com/mnews/article/comment/018/0005983212\n",
      "ETRI, 신소재 ‘그래핀’ 이용해 투명필름 개발 https://n.news.naver.com/mnews/article/056/0011928009\n",
      " https://n.news.naver.com/mnews/article/comment/056/0011928009\n",
      "컴투스, 제1회 글로벌 게임개발 공모전 수상작 발표 https://n.news.naver.com/mnews/article/001/0015319151\n",
      " https://n.news.naver.com/mnews/article/comment/001/0015319151\n",
      "\"정식연재 특전\" 네이버웹툰, 문피아와 '웹소설 공모전' 개최 https://n.news.naver.com/mnews/article/421/0008182096\n",
      " https://n.news.naver.com/mnews/article/comment/421/0008182096\n",
      "\"리액션 영상도 OK\"…아이폰17 프로, 듀얼 영상 녹화 가능 https://n.news.naver.com/mnews/article/092/0002369981\n",
      " https://n.news.naver.com/mnews/article/comment/092/0002369981\n",
      "마이크론, 美 관세에 D램 모듈·SSD 가격 인상…삼성·SK 행보 촉각 https://n.news.naver.com/mnews/article/030/0003301792\n",
      " https://n.news.naver.com/mnews/article/comment/030/0003301792\n",
      "“SK하이닉스, 1분기 D램 시장 1위…HBM 효과로 삼성 제쳐” https://n.news.naver.com/mnews/article/030/0003301791\n",
      " https://n.news.naver.com/mnews/article/comment/030/0003301791\n",
      "'주가부양 안간힘' 서정진 셀트리온 회장 사재로 500억 자사주 취득 https://n.news.naver.com/mnews/article/014/0005333522\n",
      " https://n.news.naver.com/mnews/article/comment/014/0005333522\n",
      "'HBM 날개' SK하이닉스, 삼성전자 제치고 D램 점유율 1위 등극 https://n.news.naver.com/mnews/article/001/0015320144\n",
      " https://n.news.naver.com/mnews/article/comment/001/0015320144\n",
      "'보유현금 3조' 크래프톤 \"올해 M&A 큰 장…대형 게임사도 검토\" https://n.news.naver.com/mnews/article/008/0005178107\n",
      " https://n.news.naver.com/mnews/article/comment/008/0005178107\n",
      "카카오는 부인, 노조는 반발...카카오엔터 매각설에 발칵 https://n.news.naver.com/mnews/article/469/0000858572\n",
      " https://n.news.naver.com/mnews/article/comment/469/0000858572\n",
      "\"대박 마케팅\" 이 악문 삼성…갤럭시 어떻게 팔았길래 [영상] https://n.news.naver.com/mnews/article/015/0005117023\n",
      " https://n.news.naver.com/mnews/article/comment/015/0005117023\n",
      "크림, 작년 韓·日 매출 2976억 기록…사상 최대치 https://n.news.naver.com/mnews/article/421/0008182811\n",
      " https://n.news.naver.com/mnews/article/comment/421/0008182811\n",
      "\"'암호화'된 정보일 뿐인데\"…카카오페이, 정보유출 논란에 발목 https://n.news.naver.com/mnews/article/421/0008182808\n",
      " https://n.news.naver.com/mnews/article/comment/421/0008182808\n",
      "[써보고서] 예금토큰은 미래가 될까…'땡겨요' 결제해보니 https://n.news.naver.com/mnews/article/092/0002369977\n",
      " https://n.news.naver.com/mnews/article/comment/092/0002369977\n",
      "카카오, 카카오엔터 매각설에 “주주와 다양한 방안 검토 중” https://n.news.naver.com/mnews/article/366/0001067902\n",
      " https://n.news.naver.com/mnews/article/comment/366/0001067902\n",
      "삼성전기·LG이노텍, 계절적 비수기 넘고 웃을까…美 관세·수요 위축은 변수 https://n.news.naver.com/mnews/article/138/0002194336\n",
      " https://n.news.naver.com/mnews/article/comment/138/0002194336\n",
      "\"러시아·중국, 스페이스X 스타링크 무력화 시도 중\" https://n.news.naver.com/mnews/article/092/0002369973\n",
      " https://n.news.naver.com/mnews/article/comment/092/0002369973\n",
      "이재용 회장, 일본 출장 마치고 귀국…글로벌 행보 지속 https://n.news.naver.com/mnews/article/030/0003301758\n",
      " https://n.news.naver.com/mnews/article/comment/030/0003301758\n",
      "이재명, 대선 레이스 돌입...당 대표직 사퇴 https://n.news.naver.com/mnews/article/092/0002369971\n",
      " https://n.news.naver.com/mnews/article/comment/092/0002369971\n",
      "카카오 \"카카오엔터 매각, 확정된 사항 아니다\" https://n.news.naver.com/mnews/article/003/0013173428\n",
      " https://n.news.naver.com/mnews/article/comment/003/0013173428\n",
      "“HBM 늦어질라”…SK하이닉스, 美  반도체 공장 건설 위해 현지 주민 설득 나서 https://n.news.naver.com/mnews/article/030/0003301722\n",
      " https://n.news.naver.com/mnews/article/comment/030/0003301722\n",
      "결국 머스크 생각대로?…NASA 국장 지명자 “달보다 화성 진출 우선” https://n.news.naver.com/mnews/article/032/0003362237\n",
      " https://n.news.naver.com/mnews/article/comment/032/0003362237\n",
      "서정진 회장 사재털어 셀트리온 주식 500억원 어치 취득 https://n.news.naver.com/mnews/article/015/0005116996\n",
      " https://n.news.naver.com/mnews/article/comment/015/0005116996\n",
      "우주로 진출하는 지드래곤…비틀즈 이어 국내 최초 음원·뮤비 우주 송출 https://n.news.naver.com/mnews/article/023/0003898497\n",
      " https://n.news.naver.com/mnews/article/comment/023/0003898497\n",
      "국내 석박사생 해외 유수대서 AI 반도체 역량 높인다 https://n.news.naver.com/mnews/article/584/0000031802\n",
      " https://n.news.naver.com/mnews/article/comment/584/0000031802\n",
      "신생아 선별검사, 현 민간 무분별 시행 대신 국가 주도 체계화해야 https://n.news.naver.com/mnews/article/092/0002369968\n",
      " https://n.news.naver.com/mnews/article/comment/092/0002369968\n",
      "국내 AI 반도체 인재, 세계 최고 대학에서 키운다 https://n.news.naver.com/mnews/article/011/0004472027\n",
      " https://n.news.naver.com/mnews/article/comment/011/0004472027\n",
      "상급종합병원 중증수술 35% 증가…\"중증·응급·희귀 전환 본격화\" https://n.news.naver.com/mnews/article/421/0008182487\n",
      " https://n.news.naver.com/mnews/article/comment/421/0008182487\n",
      "“소행성 충돌전 공룡 멸종설은 틀렸다” https://n.news.naver.com/mnews/article/021/0002701955\n",
      " https://n.news.naver.com/mnews/article/comment/021/0002701955\n",
      "카카오 노조 \"계열사 사모펀드로 매각 반대\" https://n.news.naver.com/mnews/article/018/0005983193\n",
      " https://n.news.naver.com/mnews/article/comment/018/0005983193\n",
      "“한국 최초” 지드래곤 뮤직비디오·음원, 우주로 송출 https://n.news.naver.com/mnews/article/005/0001768735\n",
      " https://n.news.naver.com/mnews/article/comment/005/0001768735\n",
      "\"1인당 월 배달앱 지출 10만원 육박\"…코로나 이후 역대 최대 https://n.news.naver.com/mnews/article/025/0003432955\n",
      " https://n.news.naver.com/mnews/article/comment/025/0003432955\n",
      "그래핀으로 빛 세기 따라 투명도 변하는 필름 개발 https://n.news.naver.com/mnews/article/584/0000031799\n",
      " https://n.news.naver.com/mnews/article/comment/584/0000031799\n",
      "서버 안 올려도 셀카를 지브리풍으로…사생활 보호하는 AI https://n.news.naver.com/mnews/article/584/0000031798\n",
      " https://n.news.naver.com/mnews/article/comment/584/0000031798\n",
      "‘지브리 프사’ 내 얼굴사진 안올려도 된다고? 사생활 침해 막는 AI 개발 https://n.news.naver.com/mnews/article/009/0005473341\n",
      " https://n.news.naver.com/mnews/article/comment/009/0005473341\n",
      "인스타 이어 페북·메신저도 청소년 하루 1시간 이용 제한…한국은? https://n.news.naver.com/mnews/article/003/0013173007\n",
      " https://n.news.naver.com/mnews/article/comment/003/0013173007\n",
      "\"갤럭시S25 엣지, 한국·중국서 다음 달 출시\" https://n.news.naver.com/mnews/article/092/0002369959\n",
      " https://n.news.naver.com/mnews/article/comment/092/0002369959\n",
      "삼성전자, 스마트싱스와 '삼성 헬스' 연동…“잠들면 TV 자동으로 꺼진다” https://n.news.naver.com/mnews/article/030/0003301674\n",
      " https://n.news.naver.com/mnews/article/comment/030/0003301674\n",
      "\"PCR도 자동화된다\"...씨젠, 유럽서 큐레카 실물 공개 https://n.news.naver.com/mnews/article/018/0005983173\n",
      " https://n.news.naver.com/mnews/article/comment/018/0005983173\n"
     ]
    }
   ],
   "source": [
    "# IT/과학 뉴스 \n",
    "req_param = {\n",
    "    'sid': 105\n",
    "}\n",
    "# \n",
    "url = 'https://news.naver.com/section/{sid}'.format(**req_param)\n",
    "print(url)\n",
    "\n",
    "# 요청 헤더 설정 : 브라우저 정보\n",
    "req_header = {\n",
    "    'user-agent': 'Mozilla/5.0 (Windows NT 10.0; Win64; x64) AppleWebKit/537.36 (KHTML, like Gecko) Chrome/104.0.0.0 Safari/537.36'\n",
    "}\n",
    "res = requests.get(url, headers=req_header)\n",
    "print(res)\n",
    "print(type(res))\n",
    "print(res.status_code)\n",
    "print(res.status_code, res.ok)\n",
    "# requests 의 get() 함수 호출하기 \n",
    "\n",
    "# 응답(response)이 OK 이면\n",
    "if res.ok:\n",
    "    html = res.text  # 응답(response)에서 text 추출\n",
    "    soup = BeautifulSoup(html, 'html.parser')  # BeautifulSoup 객체 생성\n",
    "    # CSS 선택자\n",
    "    #<div class=\"sa_text\"> 태그 선택\n",
    "    #print(len(soup.select(\"div.sa_text a[href*='mnews/article']\")))\n",
    "    #print(soup)\n",
    "    a_tags = soup.select(\"div.sa_text a[href*='mnews/article']\")\n",
    "    \n",
    "    for a_tag in a_tags:\n",
    "        #print(a_tag.text.strip())  # <a> 태그의 href 속성값 출력\n",
    "        title = a_tag.text.strip()  # <a> 태그의 href 속성값 출력\n",
    "        link= a_tag['href']  # <a> 태그의 href 속성값 출력\n",
    "        print(title,link)\n",
    "else:\n",
    "    print(f'에러코드:{res.status_code}')\n",
    "\n",
    "# print(soup.select(\"div.sa_text a[href*='mnews/article']\"))\n",
    "\n",
    "# <a> 태그 리스트 순회하기    \n",
    "\n",
    "# 응답(response)이 Error 이면 status code 출력    \n",
    "\n"
   ]
  },
  {
   "cell_type": "markdown",
   "id": "45640860-a449-4285-90d7-5f300292b461",
   "metadata": {},
   "source": [
    "### 1.1 뉴스제목 추출하는 함수 선언하기"
   ]
  },
  {
   "cell_type": "code",
   "execution_count": 13,
   "id": "9f2e4ef8",
   "metadata": {},
   "outputs": [
    {
     "name": "stdout",
     "output_type": "stream",
     "text": [
      "=====> https://news.naver.com/section/101 경제 뉴스 <=====\n",
      "<Response [200]>\n",
      "<class 'requests.models.Response'>\n",
      "200 True\n",
      "92\n",
      "<class 'bs4.element.ResultSet'>\n",
      "https://n.news.naver.com/mnews/article/001/0015319149 '아워홈 공장 사망사고'에 노동부 \"중대재해법 위반 조사\"\n",
      "https://n.news.naver.com/mnews/article/comment/001/0015319149 \n",
      "https://n.news.naver.com/mnews/article/277/0005575078 롯데웰푸드 '제로', 1년새 수출 4배 늘었다…\"제2의 빼빼로\"\n",
      "https://n.news.naver.com/mnews/article/comment/277/0005575078 \n",
      "https://n.news.naver.com/mnews/article/022/0004026263 제네시스 마그마 레이싱, 유러피언 르망 시리즈 LMP2 클래스 우승\n",
      "https://n.news.naver.com/mnews/article/comment/022/0004026263 \n",
      "https://n.news.naver.com/mnews/article/018/0005983147 전통시장서 농축산물 최대 20% 할인지원…국산이면 품목 제한없어\n",
      "https://n.news.naver.com/mnews/article/comment/018/0005983147 \n",
      "https://n.news.naver.com/mnews/article/014/0005333504 오비맥주, 카스 리뉴얼 기념 팝업스토어 '카스 월드' 연다\n",
      "https://n.news.naver.com/mnews/article/comment/014/0005333504 \n",
      "https://n.news.naver.com/mnews/article/008/0005177808 미 반도체기업 마이크론, 일부 제품에 '관세 요금' 부과 방침\n",
      "https://n.news.naver.com/mnews/article/comment/008/0005177808 \n",
      "https://n.news.naver.com/mnews/article/014/0005333502 경남 찾은 이복현 \"방산·조선업계 RG 발급 활성화 등 지원 조치\"\n",
      "https://n.news.naver.com/mnews/article/comment/014/0005333502 \n",
      "https://n.news.naver.com/mnews/article/008/0005178055 3월 은행권 가계대출 1.4조원 ↑…\"토허제 영향, 4월부터 반영\"\n",
      "https://n.news.naver.com/mnews/article/comment/008/0005178055 \n",
      "https://n.news.naver.com/mnews/article/022/0004026245 “일이 없어요”… 건설현장은 추운데, 취업자 늘었다고요?\n",
      "https://n.news.naver.com/mnews/article/comment/022/0004026245 \n",
      "https://n.news.naver.com/mnews/article/003/0013172261 유유제약 \"반려동물 산업 진출\"…미국 스타트업에 투자\n",
      "https://n.news.naver.com/mnews/article/comment/003/0013172261 \n",
      "https://n.news.naver.com/mnews/article/001/0015320171 삼성SDI, 유상증자 1차 발행가액 주당 14만6천200원 확정\n",
      "https://n.news.naver.com/mnews/article/comment/001/0015320171 \n",
      "https://n.news.naver.com/mnews/article/016/0002454941 삼성 제쳤다…SK하이닉스, D램 세계 1위 등극\n",
      "https://n.news.naver.com/mnews/article/comment/016/0002454941 \n",
      "https://n.news.naver.com/mnews/article/009/0005473403 “총사업비만 6조원”…인창개발, ‘CJ공장부지 업무복합시설’ 착공\n",
      "https://n.news.naver.com/mnews/article/comment/009/0005473403 \n",
      "https://n.news.naver.com/mnews/article/018/0005983282 ‘中화웨이에 우회판매’ TSMC, 美서 10억달러 벌금 가능성\n",
      "https://n.news.naver.com/mnews/article/comment/018/0005983282 \n",
      "https://n.news.naver.com/mnews/article/021/0002702043 그룹 총수 43명, 1분기에 주식재산 1800억 날려…증가율 1위 김승연 한화 회장\n",
      "https://n.news.naver.com/mnews/article/comment/021/0002702043 \n",
      "https://n.news.naver.com/mnews/article/243/0000076048 이재명 \"퇴임하는 이 순간, 주가지수 보니 마음 아프다\"\n",
      "https://n.news.naver.com/mnews/article/comment/243/0000076048 \n",
      "https://n.news.naver.com/mnews/article/586/0000101002 방시혁 하이브 의장, 주식재산 5000억원↑…1위는 이재용 삼성전자 회장\n",
      "https://n.news.naver.com/mnews/article/comment/586/0000101002 \n",
      "https://n.news.naver.com/mnews/article/029/0002946998 금양·삼부토건 등 상장사 57곳, 상장폐지 위기 몰렸다\n",
      "https://n.news.naver.com/mnews/article/comment/029/0002946998 \n",
      "https://n.news.naver.com/mnews/article/028/0002740042 기업거버넌스포럼 “한화에어로 유증 축소, ‘소액주주 이익’ 주장은 우롱”\n",
      "https://n.news.naver.com/mnews/article/comment/028/0002740042 \n",
      "https://n.news.naver.com/mnews/article/015/0005117028 미 상호관세 발효되자 코스피 2300선 붕괴…환율 1500원 '초읽기'\n",
      "https://n.news.naver.com/mnews/article/comment/015/0005117028 \n",
      "https://n.news.naver.com/mnews/article/014/0005333513 \"테슬라 인버스와 레버리지에 동시 투자\" 변동성 장세에 투자전략 '제각각'\n",
      "https://n.news.naver.com/mnews/article/comment/014/0005333513 \n",
      "https://n.news.naver.com/mnews/article/011/0004472075 대구 아파트 분양가 최고, ‘분양전환형 장기전세’ 새로운 내 집 마련으로 부상... ‘동대구 태왕아너스 더팰리스’에 이목쏠려\n",
      "https://n.news.naver.com/mnews/article/comment/011/0004472075 \n",
      "https://n.news.naver.com/mnews/article/417/0001069744 '4조 빅딜' 에이비엘바이오, 추가 잭폿 예고… \"성장은 지금부터\"\n",
      "https://n.news.naver.com/mnews/article/comment/417/0001069744 \n",
      "https://n.news.naver.com/mnews/article/293/0000065925 [포스코그룹 애셋 밸류] 수년간 담금질 견딘 '브라질 CSN'\n",
      "https://n.news.naver.com/mnews/article/comment/293/0000065925 \n",
      "https://n.news.naver.com/mnews/article/053/0000049166 \"은근 천재네?\"... '장동민 특허' 뭐길래?\n",
      "https://n.news.naver.com/mnews/article/comment/053/0000049166 \n",
      "https://n.news.naver.com/mnews/article/015/0005117022 삼성전자 결국 밀렸다…SK하이닉스, D램 매출 점유율 1위\n",
      "https://n.news.naver.com/mnews/article/comment/015/0005117022 \n",
      "https://n.news.naver.com/mnews/article/374/0000434216 SK하이닉스, D램 매출액 첫 1위 차지\n",
      "https://n.news.naver.com/mnews/article/comment/374/0000434216 \n",
      "https://n.news.naver.com/mnews/article/018/0005983269 코스피, 美 상호관세 발효에 장중 2300선 붕괴…코스닥도 2%대↓\n",
      "https://n.news.naver.com/mnews/article/comment/018/0005983269 \n",
      "https://n.news.naver.com/mnews/article/031/0000923136 美 상호관세 결국 발효…\"조선업, 중요한 협상 카드\"\n",
      "https://n.news.naver.com/mnews/article/comment/031/0000923136 \n",
      "https://n.news.naver.com/mnews/article/293/0000065924 부채 대폭 줄인 HD현대미포, '저가 수주' 졸업 눈앞\n",
      "https://n.news.naver.com/mnews/article/comment/293/0000065924 \n",
      "https://n.news.naver.com/mnews/article/008/0005178101 관세 전쟁 여파로 미국장 약세…서학개미 수익률 '-2.8%' 하락 전환\n",
      "https://n.news.naver.com/mnews/article/comment/008/0005178101 \n",
      "https://n.news.naver.com/mnews/article/123/0002356646 캐롯손보, 결국 한화손보 품으로 들어가나...\"협의체 구성 논의 중\"\n",
      "https://n.news.naver.com/mnews/article/comment/123/0002356646 \n",
      "https://n.news.naver.com/mnews/article/374/0000434215 [직설] 시급한 추경 절실한데 조기대선에 뒷전…정치권 상황은?\n",
      "https://n.news.naver.com/mnews/article/comment/374/0000434215 \n",
      "https://n.news.naver.com/mnews/article/421/0008182831 \"고수익에 원금 손실 없는 IMA\"…한투·미래, 도전장 내민다(종합)\n",
      "https://n.news.naver.com/mnews/article/comment/421/0008182831 \n",
      "https://n.news.naver.com/mnews/article/119/0002943249 서울 아파트 낙찰가율 97.5%, 2년 9개월 만에 최고치\n",
      "https://n.news.naver.com/mnews/article/comment/119/0002943249 \n",
      "https://n.news.naver.com/mnews/article/293/0000065922 [외부감사 핵심사항 진단] 수익보다 빠른 수익 인식?…삼성중공업 '진행률 리스크'\n",
      "https://n.news.naver.com/mnews/article/comment/293/0000065922 \n",
      "https://n.news.naver.com/mnews/article/016/0002454929 상장사 57곳, ‘감사의견 미달’로 상장폐지 위기…전년比 2곳↑ [투자360]\n",
      "https://n.news.naver.com/mnews/article/comment/016/0002454929 \n",
      "https://n.news.naver.com/mnews/article/016/0002454928 쎄크 “전자빔 원천기술로 글로벌 도약…HBM·전기차·방산 부품 검사에 활용” [투자360]\n",
      "https://n.news.naver.com/mnews/article/comment/016/0002454928 \n",
      "https://n.news.naver.com/mnews/article/374/0000434214 [시장 따라잡기] 관세폭탄에 미국증시 폭락…안전자산 선호 지속\n",
      "https://n.news.naver.com/mnews/article/comment/374/0000434214 \n",
      "https://n.news.naver.com/mnews/article/374/0000434213 내달 출격 갤럭시 S25 엣지…관세폭탄 소방수 될까\n",
      "https://n.news.naver.com/mnews/article/comment/374/0000434213 \n",
      "https://n.news.naver.com/mnews/article/082/0001320356 국제유가 WTI 60달러선 붕괴…4년만에 최저치 기록\n",
      "https://n.news.naver.com/mnews/article/comment/082/0001320356 \n",
      "https://n.news.naver.com/mnews/article/016/0002454925 “없으면 일상생활 불가, 너무 편해”…배달앱 결제 2300만명 넘었다\n",
      "https://n.news.naver.com/mnews/article/comment/016/0002454925 \n",
      "https://n.news.naver.com/mnews/article/014/0005333497 [단독] \"진짜 대란 터진다\" 대출까지 다 막히고...지식산업센터 절반 미분양\n",
      "https://n.news.naver.com/mnews/article/comment/014/0005333497 \n",
      "https://n.news.naver.com/mnews/article/015/0005117016 '블랙 먼데이' 악몽에 피난 행렬…하루 만에  2000억 몰렸다 [분석+]\n",
      "https://n.news.naver.com/mnews/article/comment/015/0005117016 \n",
      "https://n.news.naver.com/mnews/article/421/0008182793 은행권, 정치권에 \"가상자산 '1거래소-1은행' 제한 풀어달라\"\n",
      "https://n.news.naver.com/mnews/article/comment/421/0008182793 \n",
      "https://n.news.naver.com/mnews/article/018/0005983256 HLB “CMC 문제 수정 보완 가능, FDA 심사 미중 갈등 영향 없어”\n",
      "https://n.news.naver.com/mnews/article/comment/018/0005983256 \n"
     ]
    }
   ],
   "source": [
    "import requests\n",
    "from bs4 import BeautifulSoup\n",
    "\n",
    "section_dict = {\n",
    "    100: \"정치\",\n",
    "    101: \"경제\",\n",
    "    102: \"사회\",\n",
    "    103: \"생활/문화\",\n",
    "    104: \"세계\",\n",
    "    105: \"IT/과학\",\n",
    "}\n",
    "\n",
    "\n",
    "def print_news(sid):  # print_new(103)\n",
    "    section = section_dict[sid]\n",
    "    url = f\"https://news.naver.com/section/{sid}\"\n",
    "    print(f\"=====> {url} {section} 뉴스 <=====\")\n",
    "\n",
    "    # 요청 헤더 설정 : 브라우저 정보 (사람처럼 보이게 하려고 설정하는 것임)\n",
    "    req_header = {\n",
    "        \"user-agent\": \"Mozilla/5.0 (Windows NT 10.0; Win64; x64) AppleWebKit/537.36 (KHTML, like Gecko) Chrome/104.0.0.0 Safari/537.36\"\n",
    "    }\n",
    "\n",
    "    # requests 의 get() 함수 호출하기\n",
    "    res = requests.get(url, headers=req_header)\n",
    "    print(res)\n",
    "    print(type(res))\n",
    "    print(res.status_code, res.ok)\n",
    "\n",
    "    # 응답(response)이 OK 이면\n",
    "    if res.ok:\n",
    "        # 응답 (response)에서 text 추출 - source 보기\n",
    "        html = res.text\n",
    "        # BeautifulSoup 객체 생성\n",
    "        soup = BeautifulSoup(html, \"html.parser\")\n",
    "        \n",
    "        print(len(soup.select(\"div.sa_text a[href*='mnews/article']\")))\n",
    "        a_tag_list = soup.select(\"div.sa_text a[href*='mnews/article']\")    \n",
    "        print(type(a_tag_list))  # [<a href=\"http://\">뉴스제목</a>] ResultSet객체 , <a></a> : Tag 객체\n",
    "        \n",
    "        for a_tag in a_tag_list:\n",
    "            # print(type(a_tag))\n",
    "            title = a_tag.text.strip()\n",
    "            # href 속성의 값을 가져오기\n",
    "            link = a_tag[\"href\"]\n",
    "            print(link, title)\n",
    "    else:\n",
    "        # 응답(response)이 Error 이면 status code 출력\n",
    "        print(f\"에러 코드 = {res.status_code}\")\n",
    "\n",
    "# 함수호출\n",
    "print_news(101)"
   ]
  },
  {
   "cell_type": "code",
   "execution_count": 14,
   "id": "858952c6",
   "metadata": {},
   "outputs": [
    {
     "ename": "TypeError",
     "evalue": "print_news() takes 1 positional argument but 2 were given",
     "output_type": "error",
     "traceback": [
      "\u001b[1;31m---------------------------------------------------------------------------\u001b[0m",
      "\u001b[1;31mTypeError\u001b[0m                                 Traceback (most recent call last)",
      "Cell \u001b[1;32mIn[14], line 1\u001b[0m\n\u001b[1;32m----> 1\u001b[0m print_news(\u001b[38;5;241m103\u001b[39m,section_dict[\u001b[38;5;241m103\u001b[39m])\n",
      "\u001b[1;31mTypeError\u001b[0m: print_news() takes 1 positional argument but 2 were given"
     ]
    }
   ],
   "source": [
    "print_news(103,section_dict[103])"
   ]
  },
  {
   "cell_type": "markdown",
   "id": "323196dc",
   "metadata": {},
   "source": [
    "### 2. Image 다운로드\n",
    "* referer 요청 헤더를 반드시 설정해야 한다."
   ]
  },
  {
   "cell_type": "code",
   "execution_count": null,
   "id": "c72d6cb1",
   "metadata": {},
   "outputs": [
    {
     "name": "stdout",
     "output_type": "stream",
     "text": [
      "Writing to 20220804112251_d97bd1e1b38f0cd022e4e3639d2926b3_IMAG01_1.jpg(299,319 bytes) \n",
      "Writing to 20220804112251_d97bd1e1b38f0cd022e4e3639d2926b3_IMAG01_2.jpg(163,333 bytes) \n",
      "Writing to 20220804112251_d97bd1e1b38f0cd022e4e3639d2926b3_IMAG01_3.jpg(182,530 bytes) \n"
     ]
    }
   ],
   "source": [
    "import requests\n",
    "import os\n",
    "\n",
    "req_header = {\n",
    "    'referer': 'https://comic.naver.com/webtoon/detail?titleId=798173&no=5&amp;weekday=thu'\n",
    "}\n",
    "\n",
    "img_urls = [\n",
    "    'https://image-comic.pstatic.net/webtoon/798173/5/20220804112251_d97bd1e1b38f0cd022e4e3639d2926b3_IMAG01_1.jpg',\n",
    "    'https://image-comic.pstatic.net/webtoon/798173/5/20220804112251_d97bd1e1b38f0cd022e4e3639d2926b3_IMAG01_2.jpg',\n",
    "    'https://image-comic.pstatic.net/webtoon/798173/5/20220804112251_d97bd1e1b38f0cd022e4e3639d2926b3_IMAG01_3.jpg'\n",
    "]\n",
    "\n",
    "for img_url in img_urls:\n",
    "    # requests 의 get(url, headers) 함수 호출하기 \n",
    "    res = requests.get(img_url, headers=req_header)\n",
    "    if res.ok:    \n",
    "        # binary 응답 데이터 가져오기 content 프로퍼티를 사용\n",
    "        img_data =res.content\n",
    "        # url에서 파일명만 추출하기\n",
    "        file_name = os.path.basename(img_url)\n",
    "        # binday data를 file에 write하기\n",
    "        with open(file_name,'wb') as file:\n",
    "            print(f'Writing to {file_name}({len(img_data):,} bytes) ')\n",
    "            file.write(img_data)"
   ]
  },
  {
   "cell_type": "markdown",
   "id": "e8b00a04",
   "metadata": {},
   "source": [
    "* 현재 요청된 페이지의 image 모두 다운로드 해보기"
   ]
  },
  {
   "cell_type": "code",
   "execution_count": 23,
   "id": "b30f7bf5",
   "metadata": {},
   "outputs": [
    {
     "name": "stdout",
     "output_type": "stream",
     "text": [
      "19\n",
      "71\n",
      "71\n",
      "19 ['https://image-comic.pstatic.net/webtoon/833255/35/20250107185236_7c4b279b6b7816fb2920b82077a98786_IMAG01_1.jpg', 'https://image-comic.pstatic.net/webtoon/833255/35/20250107185236_7c4b279b6b7816fb2920b82077a98786_IMAG01_2.jpg']\n"
     ]
    }
   ],
   "source": [
    "import requests\n",
    "from bs4 import BeautifulSoup\n",
    "import os\n",
    "\n",
    "url = 'https://comic.naver.com/webtoon/detail?titleId=833255&no=35&week=tue'\n",
    "req_header = {\n",
    "    'referer': url\n",
    "}\n",
    "res = requests.get(url)\n",
    "if res.ok:\n",
    "    # jpg 파일의 절대경로 url를 찾기\n",
    "\n",
    "    soup = BeautifulSoup(res.text, 'html.parser')\n",
    "    print(len(soup.select(\"img[src*='IMAG01']\"))) #19\n",
    "    print(len(soup.select(\"img[src$='.jpg']\"))) #71\n",
    "    print(len(soup.select(\"img[src^='https://image-comic']\"))) #71\n",
    "    img_tags = soup.select(\"img[src*='IMAG01']\")\n",
    "    # img src 를 저장할 list 선언\n",
    "    img_url_list = list() # ['aa.jpg','aa1.jpg']\n",
    "    for img_tag in img_tags:\n",
    "        #print(type(img_tag), img_tag.name, img_tag)\n",
    "        img_src = img_tag['src']\n",
    "        img_url_list.append(img_src)\n",
    "    print(len(img_url_list), img_url_list[:2]) \n",
    "    \n",
    "    #img 디렉토리가 없으면 생성하기   \n",
    "    imgdir_name = 'img'\n",
    "    if not os.path.isdir(imgdir_name):\n",
    "        os.mkdir(imgdir_name)\n",
    "else:\n",
    "    print(f'Error Code = {res.status_code}')"
   ]
  },
  {
   "cell_type": "markdown",
   "id": "2ac9f5f9",
   "metadata": {},
   "source": [
    "### 3. 파일 업로드 하기\n",
    "* http://httpbin.org/post 업로드 요청을 할 수 있는 url"
   ]
  },
  {
   "cell_type": "code",
   "execution_count": null,
   "id": "04da4790",
   "metadata": {},
   "outputs": [
    {
     "name": "stdout",
     "output_type": "stream",
     "text": [
      "{'img1': <_io.BufferedReader name='f1.jpg'>, 'img2': <_io.BufferedReader name='f2.jpg'>}\n"
     ]
    }
   ],
   "source": [
    "import requests\n",
    "\n",
    "upload_files = {\n",
    "'img1': open('f1.jpg','rb'),\n",
    "'img2': open('f2.jpg','rb'),\n",
    "}\n",
    "print(upload_files)\n",
    "url = 'http://httpbin.org/post'\n",
    "# file 업로드 하려면 requests의 post 함수에 files 속성을 사용합니다.\n",
    "res = requests.post(url,files=upload_files)\n",
    "print(res.status_code)\n",
    "print(res.json())\n"
   ]
  },
  {
   "cell_type": "markdown",
   "id": "7ad65f12",
   "metadata": {},
   "source": [
    "### 4. 캡챠(이미지) API 호출하기\n",
    "* urllib 사용\n",
    "* 1. 캡차 키 발급 요청\n",
    "  2. 캡차 이미지 요청\n",
    "  3. 사용자 입력값 검증 요청"
   ]
  },
  {
   "cell_type": "code",
   "execution_count": null,
   "id": "bc4ae360-e772-4873-8642-d3494edd34e1",
   "metadata": {},
   "outputs": [
    {
     "name": "stdout",
     "output_type": "stream",
     "text": [
      "{\"key\":\"ht0PGRnUf0R3KEAe\"}\n"
     ]
    }
   ],
   "source": [
    "import os\n",
    "import sys\n",
    "import urllib.request\n",
    "client_id = \"\" # 개발자센터에서 발급받은 Client ID 값\n",
    "client_secret = \"\" # 개발자센터에서 발급받은 Client Secret 값\n",
    "code = \"0\"\n",
    "url = \"https://openapi.naver.com/v1/captcha/nkey?code=\" + code\n",
    "request = urllib.request.Request(url)\n",
    "#요청 해더\n",
    "request.add_header(\"X-Naver-Client-Id\",client_id)\n",
    "request.add_header(\"X-Naver-Client-Secret\",client_secret)\n",
    "#요총 보내기\n",
    "response = urllib.request.urlopen(request)\n",
    "#응답 코드 가져오기\n",
    "rescode = response.getcode()\n",
    "if(rescode==200):\n",
    "    response_body = response.read()\n",
    "    print(response_body.decode('utf-8'))\n",
    "else:\n",
    "    print(\"Error Code:\" + rescode)"
   ]
  },
  {
   "cell_type": "code",
   "execution_count": null,
   "id": "7b95b6a0-c218-4792-82a6-da4d80872071",
   "metadata": {},
   "outputs": [
    {
     "name": "stdout",
     "output_type": "stream",
     "text": [
      "캡차 이미지 저장\n"
     ]
    }
   ],
   "source": [
    "# 캡차 이미지 요청\n",
    "import os\n",
    "import sys\n",
    "import urllib.request\n",
    "client_id = \"\" # 개발자센터에서 발급받은 Client ID 값\n",
    "client_secret = \"\" # 개발자센터에서 발급받은 Client Secret 값\n",
    "key = \"\" # 캡차 Key 값\n",
    "url = \"https://openapi.naver.com/v1/captcha/ncaptcha.bin?key=\" + key\n",
    "request = urllib.request.Request(url)\n",
    "request.add_header(\"X-Naver-Client-Id\",client_id)\n",
    "request.add_header(\"X-Naver-Client-Secret\",client_secret)\n",
    "response = urllib.request.urlopen(request)\n",
    "rescode = response.getcode()\n",
    "if(rescode==200):\n",
    "    print(\"캡차 이미지 저장\")\n",
    "    response_body = response.read()\n",
    "    with open('captcha.jpg', 'wb') as f:\n",
    "        f.write(response_body)\n",
    "else:\n",
    "    print(\"Error Code:\" + rescode)"
   ]
  },
  {
   "cell_type": "code",
   "execution_count": null,
   "id": "a79076af-2cd0-4de2-8301-316b9130c55e",
   "metadata": {},
   "outputs": [
    {
     "name": "stdout",
     "output_type": "stream",
     "text": [
      "{\"result\":true,\"responseTime\":104.0}\n"
     ]
    }
   ],
   "source": [
    "#  사용자 입력값 검증 요청\n",
    "\n",
    "import os\n",
    "import sys\n",
    "import urllib.request\n",
    "client_id = \"\" # 개발자센터에서 발급받은 Client ID 값\n",
    "client_secret = \"\" # 개발자센터에서 발급받은 Client Secret 값\n",
    "key = \"\" # 캡차 Key 값\n",
    "code = '1'\n",
    "value = \"5942D\"\n",
    "url = \"https://openapi.naver.com/v1/captcha/nkey?code=\" + code + \"&key=\" + key + \"&value=\" + value\n",
    "request = urllib.request.Request(url)\n",
    "request.add_header(\"X-Naver-Client-Id\",client_id)\n",
    "request.add_header(\"X-Naver-Client-Secret\",client_secret)\n",
    "response = urllib.request.urlopen(request)\n",
    "rescode = response.getcode()\n",
    "if(rescode==200):\n",
    "    response_body = response.read()\n",
    "    print(response_body.decode('utf-8'))\n",
    "else:\n",
    "    print(\"Error Code:\" + rescode)"
   ]
  },
  {
   "cell_type": "markdown",
   "id": "b7d984a6",
   "metadata": {},
   "source": [
    "* requests를 사용하는 코드로 변경하기\n",
    "* [requests docs](https://requests.readthedocs.io/en/latest/user/quickstart/)"
   ]
  },
  {
   "cell_type": "code",
   "execution_count": 19,
   "id": "8fc08075",
   "metadata": {},
   "outputs": [
    {
     "name": "stdout",
     "output_type": "stream",
     "text": [
      "{\"key\":\"s55g8UmNVboVWWs2\"}\n"
     ]
    }
   ],
   "source": [
    "# 캡차 키 발급 요청\n",
    "import os\n",
    "from dotenv import load_dotenv\n",
    "import requests\n",
    "\n",
    "# .env 파일에서 환경 변수 로드\n",
    "load_dotenv()\n",
    "\n",
    "client_id = os.getenv(\"NAVER_CLIENT_ID\")  # .env 파일의 NAVER_CLIENT_ID 값\n",
    "client_secret = os.getenv(\"NAVER_CLIENT_SECRET\")  # .env 파일의 NAVER_CLIENT_SECRET 값\n",
    "code = \"0\"\n",
    "\n",
    "url = \"https://openapi.naver.com/v1/captcha/nkey?code=\" + code\n",
    "\n",
    "headers = {\n",
    "    \"X-Naver-Client-Id\": client_id,\n",
    "    \"X-Naver-Client-Secret\": client_secret\n",
    "}\n",
    "\n",
    "# 요청 보내기\n",
    "response = requests.get(url, headers=headers)\n",
    "\n",
    "# 응답 처리\n",
    "if response.status_code == 200:\n",
    "    print(response.text)\n",
    "else:\n",
    "    print(f\"Error Code: {response.status_code}\")"
   ]
  },
  {
   "cell_type": "code",
   "execution_count": 20,
   "id": "dfe0cdb9",
   "metadata": {},
   "outputs": [
    {
     "name": "stdout",
     "output_type": "stream",
     "text": [
      "캡차 이미지 저장\n"
     ]
    }
   ],
   "source": [
    "# 캡차 이미지 요청\n",
    "import os\n",
    "from dotenv import load_dotenv\n",
    "import requests\n",
    "\n",
    "# .env 파일에서 환경 변수 로드\n",
    "load_dotenv()\n",
    "\n",
    "# 환경 변수에서 값 읽기\n",
    "client_id = os.getenv(\"NAVER_CLIENT_ID\")  # .env 파일의 NAVER_CLIENT_ID\n",
    "client_secret = os.getenv(\"NAVER_CLIENT_SECRET\")  # .env 파일의 NAVER_CLIENT_SECRET\n",
    "key = os.getenv(\"NAVER_CAPTCHA_KEY\")  # .env 파일의 NAVER_CAPTCHA_KEY\n",
    "\n",
    "url = f\"https://openapi.naver.com/v1/captcha/ncaptcha.bin?key={key}\"\n",
    "\n",
    "headers = {\n",
    "    \"X-Naver-Client-Id\": client_id,\n",
    "    \"X-Naver-Client-Secret\": client_secret\n",
    "}\n",
    "\n",
    "# 요청 보내기\n",
    "response = requests.get(url, headers=headers)\n",
    "\n",
    "# 응답 처리\n",
    "if response.status_code == 200:\n",
    "    print(\"캡차 이미지 저장\")\n",
    "    with open('captcha.jpg', 'wb') as f:\n",
    "        f.write(response.content)\n",
    "else:\n",
    "    print(f\"Error Code: {response.status_code}\")"
   ]
  },
  {
   "cell_type": "code",
   "execution_count": 25,
   "id": "9089b345",
   "metadata": {},
   "outputs": [
    {
     "name": "stdout",
     "output_type": "stream",
     "text": [
      "Error occurred: 403 Client Error: Forbidden for url: https://openapi.naver.com/v1/captcha/nkey?code=1&key=s55g8UmNVboVWWs2&value=1LP7F\n",
      "Status Code: 403\n"
     ]
    }
   ],
   "source": [
    "# 사용자 입력값 검증 요청\n",
    "import os\n",
    "from dotenv import load_dotenv\n",
    "import requests\n",
    "\n",
    "# .env 파일에서 환경 변수 로드\n",
    "load_dotenv()\n",
    "\n",
    "# 환경 변수에서 값 읽기\n",
    "client_id = os.getenv(\"NAVER_CLIENT_ID\")  # .env 파일의 NAVER_CLIENT_ID\n",
    "client_secret = os.getenv(\"NAVER_CLIENT_SECRET\")  # .env 파일의 NAVER_CLIENT_SECRET\n",
    "key = os.getenv(\"NAVER_CAPTCHA_KEY\")  # .env 파일의 NAVER_CAPTCHA_KEY\n",
    "\n",
    "# 사용자 입력값\n",
    "code = \"1\"\n",
    "value = \"1LP7F\"  # 실제 사용시 사용자 입력값으로 대체 필요\n",
    "\n",
    "# URL 구성\n",
    "# query string key1=value1&key2=value2\n",
    "url = f\"https://openapi.naver.com/v1/captcha/nkey?code={code}&key={key}&value={value}\"\n",
    "\n",
    "# 요청 헤더\n",
    "headers = {\n",
    "    \"X-Naver-Client-Id\": client_id,\n",
    "    \"X-Naver-Client-Secret\": client_secret\n",
    "}\n",
    "\n",
    "# 요청 보내기\n",
    "try:\n",
    "    response = requests.get(url, headers=headers)\n",
    "    response.raise_for_status()  # 4xx, 5xx 오류 발생시 예외 발생\n",
    "    \n",
    "    # 응답 처리\n",
    "    print(response.text)\n",
    "    \n",
    "except requests.exceptions.RequestException as e:\n",
    "    print(f\"Error occurred: {e}\")\n",
    "    print(f\"Status Code: {response.status_code if 'response' in locals() else 'N/A'}\")"
   ]
  },
  {
   "cell_type": "code",
   "execution_count": null,
   "id": "727b427b",
   "metadata": {
    "scrolled": true
   },
   "outputs": [
    {
     "name": "stdout",
     "output_type": "stream",
     "text": [
      "Name: python-dotenv\n",
      "Version: 0.21.0\n",
      "Summary: Read key-value pairs from a .env file and set them as environment variables\n",
      "Home-page: https://github.com/theskumar/python-dotenv\n",
      "Author: Saurabh Kumar\n",
      "Author-email: me+github@saurabh-kumar.com\n",
      "License: BSD-3-Clause\n",
      "Location: c:\\Users\\user\\anaconda3\\Lib\\site-packages\n",
      "Requires: \n",
      "Required-by: anaconda-cloud-auth\n",
      "Note: you may need to restart the kernel to use updated packages.\n"
     ]
    }
   ],
   "source": [
    "# 사용자 입력값 검증 요청\n",
    "\n",
    "%pip show python-dotenv\n"
   ]
  },
  {
   "cell_type": "markdown",
   "id": "d5e1179a",
   "metadata": {},
   "source": [
    "### 5. 블로그 검색하기"
   ]
  },
  {
   "cell_type": "code",
   "execution_count": 26,
   "id": "877d0c7f",
   "metadata": {},
   "outputs": [
    {
     "name": "stdout",
     "output_type": "stream",
     "text": [
      "[['대구<b>파이썬</b>학원 실전 기술 익힌 곳', '▶ 제이의 맛있는 세상 ◀', '그때 힘이 되어 준 대구<b>파이썬</b>학원에 대한 글을 써보려 해요! IT 위주로 학습하는 곳 단순히 구직에... 이 대구<b>파이썬</b>학원은 전직, 현직 강사들이 비전공자도 따라갈 수 있을 정도로 눈높이 교육을 진행해 준다고... ', 'blog.naver.com/xshinerx', 'https://blog.naver.com/xshinerx/223787876858'], ['대전자바학원 <b>파이썬</b> 앱개발 공부하고 취업까지', '반짝반짝 너와 나', '저는 <b>파이썬</b>부터 시작해 백엔드 개발에 필요한 다양한 과정을 배우기로 결정했어요. <b>파이썬</b>은 최근 많은 사람들이 주목하고 인기 있는 프로그래밍 언어로 특히 생성 AI 앱을 구축하고 싶다면 필수인 언어였고... ', 'blog.naver.com/mamansiri', 'https://blog.naver.com/mamansiri/223750243246']]\n"
     ]
    }
   ],
   "source": [
    "import requests\n",
    "import pprint\n",
    "import os\n",
    "from dotenv import load_dotenv\n",
    "\n",
    "# .env 파일에서 환경 변수 로드\n",
    "load_dotenv()\n",
    "\n",
    "# 환경 변수에서 값 읽기\n",
    "client_id = os.getenv(\"NAVER_CLIENT_ID\")  # .env 파일의 NAVER_CLIENT_ID\n",
    "client_secret = os.getenv(\"NAVER_CLIENT_SECRET\")  # .env 파일의 NAVER_CLIENT_SECRET\n",
    "\n",
    "headers = {\n",
    "    'X-Naver-Client-Id': client_id,\n",
    "    'X-Naver-Client-Secret': client_secret,\n",
    "}\n",
    "\n",
    "# query string 문자열을 dict 선언\n",
    "payload = {\n",
    "    'query': '파이썬',\n",
    "    'display': 100,\n",
    "    'sort': 'sim'\n",
    "}\n",
    "\n",
    "url = 'https://openapi.naver.com/v1/search/blog.json' #?query=파이썬&display=100&sort=sim\n",
    "\n",
    "# requests get(url, params, headers) 요청 \n",
    "res = requests.get(url, params=payload, headers=headers)\n",
    "# json() 함수로 응답 결과 가져오기\n",
    "items_data = res.json()['items']\n",
    "#print(type(res.json()))\n",
    "#print(len(items_data), type(items_data), type(items_data[0]))\n",
    "\n",
    "#[{},{},{}] \n",
    "# [] - 100 개의 데이터, {title:'',link:''} - 1개의 블로그 글 데이터\n",
    "\n",
    "# 'title' , 'bloggername' , 'description' , 'bloggerlink' , 'link'\n",
    "items_list = list()\n",
    "item_list = []\n",
    "for item in items_data[:2]:\n",
    "#     print(item)\n",
    "    item_list.append(item['title'])\n",
    "    item_list.append(item['bloggername'])\n",
    "    item_list.append(item['description'])\n",
    "    item_list.append(item['bloggerlink'])\n",
    "    item_list.append(item['link'])\n",
    "\n",
    "    items_list.append(item_list)\n",
    "    item_list = []\n",
    "\n",
    "print(items_list) #[[],[]]\n",
    "\n",
    "# 'data/nhnblog.txt' 파일 생성하기\n",
    "with open('data/nhnblog.txt','w',encoding=\"utf-8\")as file:\n",
    "    for items in items_list:\n",
    "        for item in items:\n",
    "            item = item + '\\n'\n",
    "            file.write(item)\n",
    "        file.write('-'*150+'\\n')"
   ]
  },
  {
   "cell_type": "code",
   "execution_count": null,
   "id": "b4834f80",
   "metadata": {},
   "outputs": [],
   "source": []
  }
 ],
 "metadata": {
  "kernelspec": {
   "display_name": "base",
   "language": "python",
   "name": "python3"
  },
  "language_info": {
   "codemirror_mode": {
    "name": "ipython",
    "version": 3
   },
   "file_extension": ".py",
   "mimetype": "text/x-python",
   "name": "python",
   "nbconvert_exporter": "python",
   "pygments_lexer": "ipython3",
   "version": "3.12.7"
  }
 },
 "nbformat": 4,
 "nbformat_minor": 5
}
